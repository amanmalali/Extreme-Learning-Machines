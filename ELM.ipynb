{
 "cells": [
  {
   "cell_type": "code",
   "execution_count": 4,
   "metadata": {},
   "outputs": [
    {
     "name": "stdout",
     "output_type": "stream",
     "text": [
      "Input Weight shape: (3, 100)\n",
      "Output weights shape: (100,)\n",
      "Predicted value is :  35.589131307599715\n"
     ]
    },
    {
     "data": {
      "text/plain": [
       "array([[24.95126706],\n",
       "       [31.93762183],\n",
       "       [31.93762183]])"
      ]
     },
     "execution_count": 4,
     "metadata": {},
     "output_type": "execute_result"
    }
   ],
   "source": [
    "import pandas as pd\n",
    "import numpy as np\n",
    "import matplotlib.pyplot as plt\n",
    "train_x=[[21,22,23],[25,42,12],[23,32,22]] #Training data\n",
    "train_y=np.array([25,32,32])               #Training labels\n",
    "INPUT_LENGHT = len(train_x[0])             #Size of training data\n",
    "HIDDEN_UNITS = 100                         #Set the number of hidden nodes in the network\n",
    "Win = np.random.normal(size=[INPUT_LENGHT, HIDDEN_UNITS])\n",
    "print('Input Weight shape: {shape}'.format(shape=Win.shape))\n",
    "def input_to_hidden(x):                    #converting to matrix for ELM\n",
    "    a = np.dot(x, Win)\n",
    "    a = np.maximum(a, 0, a) # ReLU\n",
    "    return a\n",
    "X = input_to_hidden(train_x)\n",
    "Xt = np.transpose(X)\n",
    "Wout = np.dot(np.linalg.pinv(X),train_y.T)\n",
    "print('Output weights shape: {shape}'.format(shape=Wout.shape))\n",
    "def predict(x):                           #Function to predict output\n",
    "    x = input_to_hidden(x)\n",
    "    y = np.dot(x, Wout)\n",
    "    return y\n",
    "y=predict(np.array([20,30,38]))\n",
    "print(\"Predicted value is : \",y)\n",
    "def kernel_matrix(training_patterns, kernel_type,test_patterns=None): #Create any type of kernel matrix (rbf,linear,poly)\n",
    "    number_training_patterns = training_patterns.shape[0]\n",
    "    kernel_param=[1.0,0.1]\n",
    "    if kernel_type == \"rbf\":\n",
    "        if test_patterns is None:\n",
    "            temp_omega = np.dot(\n",
    "                np.sum(training_patterns ** 2, axis=1).reshape(-1, 1),\n",
    "                 np.ones((1, number_training_patterns)))\n",
    "            temp_omega = temp_omega + temp_omega.conj().T\n",
    "            omega = np.exp(-(2 ** kernel_param[0]) * (temp_omega - 2 * (np.dot(training_patterns, training_patterns.conj().T))))\n",
    "        else:\n",
    "            number_test_patterns = test_patterns.shape[0]\n",
    "            temp1 = np.dot(\n",
    "                np.sum(training_patterns ** 2, axis=1).reshape(-1, 1),\n",
    "                np.ones((1, number_test_patterns)))\n",
    "            temp2 = np.dot(\n",
    "                np.sum(test_patterns ** 2, axis=1).reshape(-1, 1),\n",
    "                np.ones((1, number_training_patterns)))\n",
    "            temp_omega = temp1 + temp2.conj().T\n",
    "            omega = \\\n",
    "                np.exp(- (2 ** kernel_param[0]) *\n",
    "                       (temp_omega - 2 * np.dot(training_patterns,\n",
    "                                                test_patterns.conj().T)))\n",
    "    elif kernel_type == \"linear\":\n",
    "        if test_patterns is None:\n",
    "            omega = np.dot(training_patterns, training_patterns.conj().T)\n",
    "        else:\n",
    "            omega = np.dot(training_patterns, test_patterns.conj().T)\n",
    "    elif kernel_type == \"poly\":\n",
    "        kernel_param[1] = round(kernel_param[1])\n",
    "        if test_patterns is None:\n",
    "            temp = np.dot(training_patterns, training_patterns.conj().T)+ kernel_param[0]\n",
    "            omega = temp ** kernel_param[1]\n",
    "        else:\n",
    "            temp = np.dot(training_patterns, test_patterns.conj().T)+ kernel_param[0]\n",
    "            omega = temp ** kernel_param[1]\n",
    "    else:\n",
    "        print(\"Error: Invalid or unavailable kernel function.\")\n",
    "        return\n",
    "    return omega\n",
    "def local_train(training_patterns, training_expected_targets):\n",
    "    param_kernel_function = \"rbf\"\n",
    "    param_c = 9\n",
    "    param_kernel_params = [-15]\n",
    "    training_patterns = training_patterns\n",
    "    number_training_patterns = training_patterns.shape[0]\n",
    "    omega_train = kernel_matrix(training_patterns,param_kernel_function)\n",
    "    output_weight = np.linalg.solve((omega_train + np.eye(number_training_patterns) /(2 ** param_c)),training_expected_targets).reshape(-1, 1)\n",
    "    training_predicted_targets = np.dot(omega_train, output_weight)\n",
    "    return training_predicted_targets\n",
    "local_train(np.array(train_x),train_y)"
   ]
  },
  {
   "cell_type": "code",
   "execution_count": 2,
   "metadata": {},
   "outputs": [],
   "source": [
    "print(predict(np.array([21,22,29])))"
   ]
  },
  {
   "cell_type": "code",
   "execution_count": 3,
   "metadata": {},
   "outputs": [
    {
     "name": "stdout",
     "output_type": "stream",
     "text": [
      "Input Weight shape: (3, 100)\n"
     ]
    }
   ],
   "source": []
  },
  {
   "cell_type": "code",
   "execution_count": 13,
   "metadata": {},
   "outputs": [
    {
     "name": "stdout",
     "output_type": "stream",
     "text": [
      "Output weights shape: (100,)\n"
     ]
    }
   ],
   "source": []
  },
  {
   "cell_type": "code",
   "execution_count": 19,
   "metadata": {},
   "outputs": [
    {
     "name": "stdout",
     "output_type": "stream",
     "text": [
      "Predicted value is :  32.127745570040204\n"
     ]
    }
   ],
   "source": []
  },
  {
   "cell_type": "code",
   "execution_count": 73,
   "metadata": {},
   "outputs": [],
   "source": [
    "\n"
   ]
  },
  {
   "cell_type": "code",
   "execution_count": 83,
   "metadata": {},
   "outputs": [],
   "source": []
  },
  {
   "cell_type": "code",
   "execution_count": 7,
   "metadata": {},
   "outputs": [],
   "source": []
  },
  {
   "cell_type": "code",
   "execution_count": 8,
   "metadata": {},
   "outputs": [],
   "source": [
    "z=kernel_matrix(np.array(train_x),\"poly\",test_patterns=None)"
   ]
  },
  {
   "cell_type": "code",
   "execution_count": 15,
   "metadata": {},
   "outputs": [],
   "source": []
  },
  {
   "cell_type": "code",
   "execution_count": 16,
   "metadata": {},
   "outputs": [
    {
     "data": {
      "text/plain": [
       "array([[24.95126706],\n",
       "       [31.93762183],\n",
       "       [31.93762183]])"
      ]
     },
     "execution_count": 16,
     "metadata": {},
     "output_type": "execute_result"
    }
   ],
   "source": []
  },
  {
   "cell_type": "code",
   "execution_count": 3,
   "metadata": {},
   "outputs": [
    {
     "name": "stdout",
     "output_type": "stream",
     "text": [
      "26.966736422151946\n"
     ]
    }
   ],
   "source": []
  },
  {
   "cell_type": "code",
   "execution_count": 34,
   "metadata": {},
   "outputs": [],
   "source": [
    "import random\n",
    "def swap_random(col):\n",
    "   #col = ['id','comment_text','toxic','severe_toxic','obscene','threat','insult','identity_hate']\n",
    "    idx = range(1,len(col)-1)\n",
    "    i1, i2 = random.sample(idx, 2)\n",
    "    #print(i1,i2)\n",
    "    \n",
    "    col[i1] , col[i2] = col[i2] , col[i1]\n",
    "    #print(\"in swap\",col)\n",
    "    return col\n",
    "\n",
    "def initialPop():\n",
    "    population = []\n",
    "    col = ['id','comment_text','toxic','severe_toxic','obscene','threat','insult','identity_hate']\n",
    "    population.append(swap_random(col[:]))\n",
    "    print(population)\n",
    "    for i in range(1,4):\n",
    "        population.append(swap_random(col[:]))\n",
    "        #print(population)\n",
    "    print(\"Creating initial population:\\n\\n\",population)\n",
    "    return population"
   ]
  },
  {
   "cell_type": "code",
   "execution_count": 35,
   "metadata": {},
   "outputs": [
    {
     "name": "stdout",
     "output_type": "stream",
     "text": [
      "5 6\n",
      "in swap ['id', 'comment_text', 'toxic', 'severe_toxic', 'obscene', 'insult', 'threat', 'identity_hate']\n",
      "[['id', 'comment_text', 'toxic', 'severe_toxic', 'obscene', 'insult', 'threat', 'identity_hate']]\n",
      "4 1\n",
      "in swap ['id', 'obscene', 'toxic', 'severe_toxic', 'comment_text', 'threat', 'insult', 'identity_hate']\n",
      "2 1\n",
      "in swap ['id', 'toxic', 'comment_text', 'severe_toxic', 'obscene', 'threat', 'insult', 'identity_hate']\n",
      "4 5\n",
      "in swap ['id', 'comment_text', 'toxic', 'severe_toxic', 'threat', 'obscene', 'insult', 'identity_hate']\n",
      "Creating initial population:\n",
      "\n",
      " [['id', 'comment_text', 'toxic', 'severe_toxic', 'obscene', 'insult', 'threat', 'identity_hate'], ['id', 'obscene', 'toxic', 'severe_toxic', 'comment_text', 'threat', 'insult', 'identity_hate'], ['id', 'toxic', 'comment_text', 'severe_toxic', 'obscene', 'threat', 'insult', 'identity_hate'], ['id', 'comment_text', 'toxic', 'severe_toxic', 'threat', 'obscene', 'insult', 'identity_hate']]\n"
     ]
    },
    {
     "data": {
      "text/plain": [
       "[['id',\n",
       "  'comment_text',\n",
       "  'toxic',\n",
       "  'severe_toxic',\n",
       "  'obscene',\n",
       "  'insult',\n",
       "  'threat',\n",
       "  'identity_hate'],\n",
       " ['id',\n",
       "  'obscene',\n",
       "  'toxic',\n",
       "  'severe_toxic',\n",
       "  'comment_text',\n",
       "  'threat',\n",
       "  'insult',\n",
       "  'identity_hate'],\n",
       " ['id',\n",
       "  'toxic',\n",
       "  'comment_text',\n",
       "  'severe_toxic',\n",
       "  'obscene',\n",
       "  'threat',\n",
       "  'insult',\n",
       "  'identity_hate'],\n",
       " ['id',\n",
       "  'comment_text',\n",
       "  'toxic',\n",
       "  'severe_toxic',\n",
       "  'threat',\n",
       "  'obscene',\n",
       "  'insult',\n",
       "  'identity_hate']]"
      ]
     },
     "execution_count": 35,
     "metadata": {},
     "output_type": "execute_result"
    }
   ],
   "source": [
    "initialPop()"
   ]
  },
  {
   "cell_type": "code",
   "execution_count": null,
   "metadata": {},
   "outputs": [],
   "source": []
  }
 ],
 "metadata": {
  "kernelspec": {
   "display_name": "Python 3",
   "language": "python",
   "name": "python3"
  },
  "language_info": {
   "codemirror_mode": {
    "name": "ipython",
    "version": 3
   },
   "file_extension": ".py",
   "mimetype": "text/x-python",
   "name": "python",
   "nbconvert_exporter": "python",
   "pygments_lexer": "ipython3",
   "version": "3.6.5"
  }
 },
 "nbformat": 4,
 "nbformat_minor": 2
}
